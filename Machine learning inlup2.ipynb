{
 "cells": [
  {
   "cell_type": "markdown",
   "metadata": {},
   "source": [
    "## Download data"
   ]
  },
  {
   "cell_type": "code",
   "execution_count": 115,
   "metadata": {},
   "outputs": [],
   "source": [
    "\n",
    "import sklearn.linear_model\n",
    "from sklearn.datasets import fetch_openml\n",
    "from sklearn.preprocessing import StandardScaler\n",
    "import numpy as np\n",
    "import matplotlib.pyplot as plt\n",
    "from sklearn.model_selection import train_test_split, cross_val_score, StratifiedShuffleSplit\n",
    "from sklearn.linear_model import LogisticRegression\n",
    "from sklearn.svm import SVC\n",
    "from sklearn.preprocessing import StandardScaler, MinMaxScaler\n",
    "from sklearn.metrics import accuracy_score, confusion_matrix, ConfusionMatrixDisplay, classification_report\n",
    "from sklearn.pipeline import Pipeline"
   ]
  },
  {
   "cell_type": "code",
   "execution_count": 95,
   "metadata": {},
   "outputs": [
    {
     "name": "stdout",
     "output_type": "stream",
     "text": [
      "**Author**: Yann LeCun, Corinna Cortes, Christopher J.C. Burges  \n",
      "**Source**: [MNIST Website](http://yann.lecun.com/exdb/mnist/) - Date unknown  \n",
      "**Please cite**:  \n",
      "\n",
      "The MNIST database of handwritten digits with 784 features, raw data available at: http://yann.lecun.com/exdb/mnist/. It can be split in a training set of the first 60,000 examples, and a test set of 10,000 examples  \n",
      "\n",
      "It is a subset of a larger set available from NIST. The digits have been size-normalized and centered in a fixed-size image. It is a good database for people who want to try learning techniques and pattern recognition methods on real-world data while spending minimal efforts on preprocessing and formatting. The original black and white (bilevel) images from NIST were size normalized to fit in a 20x20 pixel box while preserving their aspect ratio. The resulting images contain grey levels as a result of the anti-aliasing technique used by the normalization algorithm. the images were centered in a 28x28 image by computing the center of mass of the pixels, and translating the image so as to position this point at the center of the 28x28 field.  \n",
      "\n",
      "With some classification methods (particularly template-based methods, such as SVM and K-nearest neighbors), the error rate improves when the digits are centered by bounding box rather than center of mass. If you do this kind of pre-processing, you should report it in your publications. The MNIST database was constructed from NIST's NIST originally designated SD-3 as their training set and SD-1 as their test set. However, SD-3 is much cleaner and easier to recognize than SD-1. The reason for this can be found on the fact that SD-3 was collected among Census Bureau employees, while SD-1 was collected among high-school students. Drawing sensible conclusions from learning experiments requires that the result be independent of the choice of training set and test among the complete set of samples. Therefore it was necessary to build a new database by mixing NIST's datasets.  \n",
      "\n",
      "The MNIST training set is composed of 30,000 patterns from SD-3 and 30,000 patterns from SD-1. Our test set was composed of 5,000 patterns from SD-3 and 5,000 patterns from SD-1. The 60,000 pattern training set contained examples from approximately 250 writers. We made sure that the sets of writers of the training set and test set were disjoint. SD-1 contains 58,527 digit images written by 500 different writers. In contrast to SD-3, where blocks of data from each writer appeared in sequence, the data in SD-1 is scrambled. Writer identities for SD-1 is available and we used this information to unscramble the writers. We then split SD-1 in two: characters written by the first 250 writers went into our new training set. The remaining 250 writers were placed in our test set. Thus we had two sets with nearly 30,000 examples each. The new training set was completed with enough examples from SD-3, starting at pattern # 0, to make a full set of 60,000 training patterns. Similarly, the new test set was completed with SD-3 examples starting at pattern # 35,000 to make a full set with 60,000 test patterns. Only a subset of 10,000 test images (5,000 from SD-1 and 5,000 from SD-3) is available on this site. The full 60,000 sample training set is available.\n",
      "\n",
      "Downloaded from openml.org.\n"
     ]
    }
   ],
   "source": [
    "mnist = fetch_openml('mnist_784', version = 1, cache = True, as_frame = False)\n",
    "print(mnist.DESCR)"
   ]
  },
  {
   "cell_type": "code",
   "execution_count": 96,
   "metadata": {},
   "outputs": [],
   "source": [
    "X = mnist[\"data\"]\n",
    "y = mnist[\"target\"].astype(np.uint8)"
   ]
  },
  {
   "cell_type": "code",
   "execution_count": 97,
   "metadata": {},
   "outputs": [
    {
     "name": "stdout",
     "output_type": "stream",
     "text": [
      "(70000, 784)\n",
      "(70000,)\n"
     ]
    }
   ],
   "source": [
    "# shapes\n",
    "print(X.shape)\n",
    "print(y.shape)"
   ]
  },
  {
   "cell_type": "code",
   "execution_count": 98,
   "metadata": {},
   "outputs": [
    {
     "name": "stdout",
     "output_type": "stream",
     "text": [
      "[  0   0   0   0   0   0   0   0   0   0   0   0   0   0   0   0   0   0\n",
      "   0   0   0   0   0   0   0   0   0   0   0   0   0   0   0   0   0   0\n",
      "   0   0   0   0   0   0   0   0   0   0   0   0   0   0   0   0   0   0\n",
      "   0   0   0   0   0   0   0   0   0   0   0   0   0   0   0   0   0   0\n",
      "   0   0   0   0   0   0   0   0   0   0   0   0   0   0   0   0   0   0\n",
      "   0   0   0   0   0   0   0   0   0   0   0   0   0   0   0   0   0   0\n",
      "   0   0   0   0   0   0   0   0   0   0   0   0   0   0   0  42 118 219\n",
      " 166 118 118   6   0   0   0   0   0   0   0   0   0   0   0   0   0   0\n",
      "   0   0   0   0   0   0 103 242 254 254 254 254 254  66   0   0   0   0\n",
      "   0   0   0   0   0   0   0   0   0   0   0   0   0   0   0   0  18 232\n",
      " 254 254 254 254 254 238  70   0   0   0   0   0   0   0   0   0   0   0\n",
      "   0   0   0   0   0   0   0   0   0 104 244 254 224 254 254 254 141   0\n",
      "   0   0   0   0   0   0   0   0   0   0   0   0   0   0   0   0   0   0\n",
      "   0   0 207 254 210 254 254 254  34   0   0   0   0   0   0   0   0   0\n",
      "   0   0   0   0   0   0   0   0   0   0   0   0  84 206 254 254 254 254\n",
      "  41   0   0   0   0   0   0   0   0   0   0   0   0   0   0   0   0   0\n",
      "   0   0   0   0   0  24 209 254 254 254 171   0   0   0   0   0   0   0\n",
      "   0   0   0   0   0   0   0   0   0   0   0   0   0   0  91 137 253 254\n",
      " 254 254 112   0   0   0   0   0   0   0   0   0   0   0   0   0   0   0\n",
      "   0   0   0   0  40 214 250 254 254 254 254 254  34   0   0   0   0   0\n",
      "   0   0   0   0   0   0   0   0   0   0   0   0   0   0  81 247 254 254\n",
      " 254 254 254 254 146   0   0   0   0   0   0   0   0   0   0   0   0   0\n",
      "   0   0   0   0   0   0   0 110 246 254 254 254 254 254 171   0   0   0\n",
      "   0   0   0   0   0   0   0   0   0   0   0   0   0   0   0   0   0   0\n",
      "  73  89  89  93 240 254 171   0   0   0   0   0   0   0   0   0   0   0\n",
      "   0   0   0   0   0   0   0   0   0   0   0   0   0   1 128 254 219  31\n",
      "   0   0   0   0   0   0   0   0   0   0   0   0   0   0   0   0   0   0\n",
      "   0   0   0   0   0   7 254 254 214  28   0   0   0   0   0   0   0   0\n",
      "   0   0   0   0   0   0   0   0   0   0   0   0   0   0   0 138 254 254\n",
      " 116   0   0   0   0   0   0   0   0   0   0   0   0   0   0   0  19 177\n",
      "  90   0   0   0   0   0  25 240 254 254  34   0   0   0   0   0   0   0\n",
      "   0   0   0   0   0   0   0   0 164 254 215  63  36   0  51  89 206 254\n",
      " 254 139   8   0   0   0   0   0   0   0   0   0   0   0   0   0   0   0\n",
      "  57 197 254 254 222 180 241 254 254 253 213  11   0   0   0   0   0   0\n",
      "   0   0   0   0   0   0   0   0   0   0   0 140 105 254 254 254 254 254\n",
      " 254 236   0   0   0   0   0   0   0   0   0   0   0   0   0   0   0   0\n",
      "   0   0   0   0   7 117 117 165 254 254 239  50   0   0   0   0   0   0\n",
      "   0   0   0   0   0   0   0   0   0   0   0   0   0   0   0   0   0   0\n",
      "   0   0   0   0   0   0   0   0   0   0   0   0   0   0   0   0   0   0\n",
      "   0   0   0   0   0   0   0   0   0   0   0   0   0   0   0   0   0   0\n",
      "   0   0   0   0   0   0   0   0   0   0   0   0   0   0   0   0   0   0\n",
      "   0   0   0   0   0   0   0   0   0   0   0   0   0   0   0   0   0   0\n",
      "   0   0   0   0   0   0   0   0   0   0   0   0   0   0   0   0   0   0\n",
      "   0   0   0   0   0   0   0   0   0   0]\n"
     ]
    }
   ],
   "source": [
    "# Look at an instance from X to understand its structure \n",
    "random_image = X[10]\n",
    "y_label = y[10]\n",
    "print(random_image)"
   ]
  },
  {
   "cell_type": "code",
   "execution_count": 99,
   "metadata": {},
   "outputs": [
    {
     "data": {
      "image/png": "[encoded data removed]",
      "text/plain": [
       "<Figure size 640x480 with 1 Axes>"
      ]
     },
     "metadata": {},
     "output_type": "display_data"
    },
    {
     "name": "stdout",
     "output_type": "stream",
     "text": [
      "Label: 3\n"
     ]
    }
   ],
   "source": [
    "# Display image\n",
    "def display_digit(image_data):\n",
    "    image_data = image_data.reshape(28, 28)\n",
    "    plt.imshow(image_data, cmap=\"summer\") \n",
    "    plt.axis(\"on\")\n",
    "    \n",
    "display_digit(random_image)\n",
    "plt.show()\n",
    "print(f\"Label: {y_label}\")"
   ]
  },
  {
   "cell_type": "code",
   "execution_count": 101,
   "metadata": {},
   "outputs": [
    {
     "name": "stdout",
     "output_type": "stream",
     "text": [
      "Train: (49000, 784), Validation: (7000, 784), Test: (14000, 784)\n"
     ]
    }
   ],
   "source": [
    "from sklearn.model_selection import train_test_split\n",
    "from sklearn.preprocessing import StandardScaler\n",
    "\n",
    "# Standardize the data\n",
    "scaler = StandardScaler()\n",
    "scaled_X = scaler.fit_transform(X)\n",
    "\n",
    "# Divide in training 80% and test 20%\n",
    "X_train_val, X_test, y_train_val, y_test = train_test_split(scaled_X,y, test_size=0.2, random_state=10)\n",
    "\n",
    "# Divide in training (80%) and validation (10%) and test (10%)\n",
    "\n",
    "X_train, X_val, y_train, y_val = train_test_split(X_train_val, y_train_val, test_size=0.125, random_state=10)\n",
    "\n",
    "print(f\"Train: {X_train.shape}, Validation: {X_val.shape}, Test: {X_test.shape}\")"
   ]
  },
  {
   "cell_type": "markdown",
   "metadata": {},
   "source": [
    "## Logistic Regression"
   ]
  },
  {
   "cell_type": "code",
   "execution_count": 120,
   "metadata": {},
   "outputs": [
    {
     "name": "stdout",
     "output_type": "stream",
     "text": [
      "Test Accuracy: 87.8500%\n"
     ]
    }
   ],
   "source": [
    "from sklearn.linear_model import LogisticRegression\n",
    "from sklearn.metrics import accuracy_score\n",
    "\n",
    "# Create and train Logistic Regression model\n",
    "log_reg = LogisticRegression(max_iter=500, solver='lbfgs', random_state=42)\n",
    "log_reg.fit(X_train, y_train)  # Use the already standardized data\n",
    "\n",
    "# Evaluate the model on the test data\n",
    "y_test_pred = log_reg.predict(X_test)\n",
    "log_reg_accuracy = accuracy_score(y_test, y_test_pred)\n",
    "\n",
    "print(f\"Test Accuracy: {accuracy * 100:.4f}%\")\n"
   ]
  },
  {
   "cell_type": "markdown",
   "metadata": {},
   "source": [
    "## SVM - Support Vector Machine"
   ]
  },
  {
   "cell_type": "code",
   "execution_count": 103,
   "metadata": {},
   "outputs": [],
   "source": [
    "import numpy as np\n",
    "from sklearn.model_selection import train_test_split"
   ]
  },
  {
   "cell_type": "code",
   "execution_count": 105,
   "metadata": {},
   "outputs": [],
   "source": [
    "# Flatten each input image into a vector of length 784\n",
    "X_train = X_train.reshape(X_train.shape[0], 28*28)\n",
    "X_test = X_test.reshape(X_test.shape[0], 28*28)\n",
    "\n",
    "# Normalizing \n",
    "X_train = X_train/255\n",
    "X_test = X_test/255"
   ]
  },
  {
   "cell_type": "code",
   "execution_count": 106,
   "metadata": {},
   "outputs": [
    {
     "name": "stdout",
     "output_type": "stream",
     "text": [
      "Shape of training data after flattening (49000, 784)\n",
      "Shape of testing data after flattening (14000, 784)\n"
     ]
    }
   ],
   "source": [
    "print('Shape of training data after flattening' ,X_train.shape)\n",
    "print('Shape of testing data after flattening' ,X_test.shape)"
   ]
  },
  {
   "cell_type": "markdown",
   "metadata": {},
   "source": [
    "#### Let's consider the first 10,000 images in training dataset and first 2,000 images in testing dataset."
   ]
  },
  {
   "cell_type": "code",
   "execution_count": 107,
   "metadata": {},
   "outputs": [
    {
     "name": "stdout",
     "output_type": "stream",
     "text": [
      "Shape of training data (10000, 784)\n",
      "Shape of training labels (10000,)\n",
      "Shape of testing data (2000, 784)\n",
      "Shape of testing labels (2000,)\n"
     ]
    }
   ],
   "source": [
    "X_train = X_train[0:10000,:]\n",
    "y_train = y_train[0:10000]\n",
    "X_test = X_test[0:2000,:]\n",
    "y_test = y_test[0:2000]\n",
    "\n",
    "\n",
    "print('Shape of training data', X_train.shape)\n",
    "print('Shape of training labels', y_train.shape)\n",
    "print('Shape of testing data', X_test.shape)\n",
    "print('Shape of testing labels', y_test.shape)"
   ]
  },
  {
   "cell_type": "markdown",
   "metadata": {},
   "source": [
    "## Nonlinear SVM - RBF Kernel"
   ]
  },
  {
   "cell_type": "markdown",
   "metadata": {},
   "source": [
    "### Using Pipeline"
   ]
  },
  {
   "cell_type": "code",
   "execution_count": 131,
   "metadata": {},
   "outputs": [
    {
     "name": "stdout",
     "output_type": "stream",
     "text": [
      "SVM Test Accuracy: 88.15%\n"
     ]
    }
   ],
   "source": [
    "# Define the pipeline with RBF kernel SVM\n",
    "pipe_2 = Pipeline([('scaler', MinMaxScaler()), \n",
    "                   (\"classifier\", SVC(kernel='rbf', gamma=0.1, C=1))])\n",
    "\n",
    "# Train the pipeline on the training data\n",
    "pipe_2.fit(X_train, y_train)\n",
    "\n",
    "# Predict on test data with the SVM model\n",
    "svm_test_pred = pipe_2.predict(X_test)\n",
    "\n",
    "# Calculate test accuracy\n",
    "svm_test_acc = accuracy_score(y_test, svm_test_pred)\n",
    "\n",
    "# Print the result\n",
    "print(f\"SVM Test Accuracy: {svm_test_acc * 100:.2f}%\")\n"
   ]
  },
  {
   "cell_type": "code",
   "execution_count": 137,
   "metadata": {},
   "outputs": [
    {
     "name": "stdout",
     "output_type": "stream",
     "text": [
      "\n",
      "Comparison of Logistic Regression and SVM:\n",
      "Logistic Regression Accuracy: 88.6400%\n",
      "SVM Test Accuracy: 88.1500%\n"
     ]
    }
   ],
   "source": [
    "# Compare models' performance\n",
    "print(\"\\nComparison of Logistic Regression and SVM:\")\n",
    "print(f\"Logistic Regression Accuracy: {log_reg_accuracy * 100:.4f}%\")\n",
    "print(f\"SVM Test Accuracy: {svm_test_acc * 100:.4f}%\")"
   ]
  },
  {
   "cell_type": "code",
   "execution_count": 132,
   "metadata": {},
   "outputs": [
    {
     "data": {
      "image/png": "[encoded data removed]",
      "text/plain": [
       "<Figure size 640x480 with 2 Axes>"
      ]
     },
     "metadata": {},
     "output_type": "display_data"
    }
   ],
   "source": [
    "# Visualizing the confusion matrix\n",
    "y_pred = pipe_2.predict(X_test)\n",
    "cm = confusion_matrix(y_test, y_pred)\n",
    "disp = ConfusionMatrixDisplay(confusion_matrix=cm)\n",
    "disp.plot()\n",
    "plt.title('Confusion matrix')\n",
    "plt.show() "
   ]
  },
  {
   "cell_type": "code",
   "execution_count": 124,
   "metadata": {},
   "outputs": [
    {
     "name": "stdout",
     "output_type": "stream",
     "text": [
      "\n",
      "Comparison between the models:\n",
      "Logistic Regression Accuracy (CV): 88.64%\n",
      "SVM Accuracy (CV): 85.38%\n",
      "\n",
      "The best model based on Cross Validation: Logistic Regression\n"
     ]
    }
   ],
   "source": [
    "from sklearn.model_selection import cross_val_score\n",
    "\n",
    "# Logistic Regression – Cross Validation\n",
    "log_reg_cv_scores = cross_val_score(log_reg, X_train, y_train, cv=3)\n",
    "log_reg_accuracy = log_reg_cv_scores.mean()\n",
    "\n",
    "# SVM – Cross Validation\n",
    "acc_svm = cross_val_score(pipe_2, X_train, y_train.ravel(), cv=3)\n",
    "svm_accuracy = acc_svm.mean()\n",
    "\n",
    "# Write out the differences\n",
    "print(\"\\nComparison between the models:\")\n",
    "print(f\"Logistic Regression Accuracy (CV): {log_reg_accuracy * 100:.2f}%\")\n",
    "print(f\"SVM Accuracy (CV): {svm_accuracy * 100:.2f}%\")\n",
    "\n",
    "# Test accuracy for the best model\n",
    "best_model = \"SVM\" if svm_accuracy > log_reg_accuracy else \"Logistic Regression\"\n",
    "print(f\"\\nThe best model based on Cross Validation: {best_model}\")\n"
   ]
  },
  {
   "cell_type": "code",
   "execution_count": 138,
   "metadata": {},
   "outputs": [
    {
     "name": "stdout",
     "output_type": "stream",
     "text": [
      "Logistic Regression Test Accuracy: 87.85%\n",
      "SVM Test Accuracy: 88.15%\n",
      "Logistic Regression CV Accuracy: 88.64%\n",
      "SVM CV Accuracy: 85.38%\n"
     ]
    }
   ],
   "source": [
    "print(f\"Logistic Regression Test Accuracy: {accuracy * 100:.2f}%\")\n",
    "print(f\"SVM Test Accuracy: {svm_test_acc * 100:.2f}%\")\n",
    "\n",
    "print(f\"Logistic Regression CV Accuracy: {log_reg_accuracy * 100:.2f}%\")\n",
    "print(f\"SVM CV Accuracy: {svm_accuracy * 100:.2f}%\")\n"
   ]
  },
  {
   "cell_type": "markdown",
   "metadata": {},
   "source": [
    "## Conclusion"
   ]
  },
  {
   "cell_type": "markdown",
   "metadata": {},
   "source": [
    "\n",
    "# In this project, I used machine learning to classify handwritten digits from the MNIST dataset. I worked with two models: Logistic Regression and Support Vector Machine (SVM) using an RBF kernel.\n",
    "# After preprocessing the data (standardizing and flattening the images), I trained both models and evaluated them using cross-validation and test accuracy.\n",
    "# Logistic Regression got a CV score of 88.64% and a test accuracy of 87.85%, while SVM got a CV score of 86.43% and a slightly better test accuracy of 88.15%.\n",
    "# This shows that overall Logistic Regression had more stable performance, but SVM did a bit better on new test data.\n",
    "# Throughout this assignment, I followed a complete machine learning workflow: loading and understanding the data, preprocessing, training models, evaluating them using \n",
    "# confusion matrices and classification reports, and finally comparing their performance.\n",
    "# As someone new to machine learning, this project helped me understand how models learn and how to apply them to real classification tasks.\n"
   ]
  }
 ],
 "metadata": {
  "kernelspec": {
   "display_name": "Python 3",
   "language": "python",
   "name": "python3"
  },
  "language_info": {
   "codemirror_mode": {
    "name": "ipython",
    "version": 3
   },
   "file_extension": ".py",
   "mimetype": "text/x-python",
   "name": "python",
   "nbconvert_exporter": "python",
   "pygments_lexer": "ipython3",
   "version": "3.11.2"
  }
 },
 "nbformat": 4,
 "nbformat_minor": 2
}
